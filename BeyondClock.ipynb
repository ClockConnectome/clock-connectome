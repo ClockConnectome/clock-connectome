{
 "cells": [
  {
   "cell_type": "markdown",
   "id": "612cf948-f2db-4be3-a88e-4c55716728ac",
   "metadata": {},
   "source": [
    "To determine whether there are neurons that have not been identified as clock neurons in the hemibrain dataset but that are nonetheless central players in the clock network, we focused on the strongest shared targets of the M and E cells."
   ]
  },
  {
   "cell_type": "markdown",
   "id": "2076cd15-e8e2-48ec-ab25-3d21a8ae871a",
   "metadata": {},
   "source": [
    "# Strongest shared M cell targets"
   ]
  },
  {
   "cell_type": "markdown",
   "id": "11cb9227-6b02-4fed-9872-41f3ac404153",
   "metadata": {},
   "source": [
    "Strong connections made by all of the M cells were retrieved. \n",
    "\n",
    "There were 6 neurons that received strong synaptic connections from all 4 M cells."
   ]
  },
  {
   "cell_type": "code",
   "execution_count": 1,
   "id": "40f3e52a",
   "metadata": {},
   "outputs": [],
   "source": [
    "from neuprint import Client\n",
    "c = Client('neuprint.janelia.org', dataset='hemibrain:v1.2.1', token='[INSERT USER TOKEN]') "
   ]
  },
  {
   "cell_type": "code",
   "execution_count": 2,
   "id": "9b93fff9",
   "metadata": {},
   "outputs": [],
   "source": [
    "import neuron_criteria\n",
    "\n",
    "clock_df = neuron_criteria.getClock()\n",
    "bodyIds_by_type = neuron_criteria.bodyIds_by_type(clock_df)\n",
    "MIds = bodyIds_by_type['s-LNv']"
   ]
  },
  {
   "cell_type": "code",
   "execution_count": 8,
   "id": "c7d2b6b0-6446-4de7-9e03-7f2252147568",
   "metadata": {},
   "outputs": [
    {
     "name": "stderr",
     "output_type": "stream",
     "text": [
      "C:\\Users\\dbing\\Documents\\Research\\Code\\clock-connectome\\strongest_targets.py:13: FutureWarning: Indexing with multiple keys (implicitly converted to a tuple of keys) will be deprecated, use a list instead.\n",
      "  test = test.groupby(['bodyId_post'], as_index=False)['weight','shared'].sum()\n"
     ]
    },
    {
     "data": {
      "text/plain": [
       "3     355453590\n",
       "9    5813047586\n",
       "1     325122525\n",
       "2     325455002\n",
       "0     294783216\n",
       "5     540998882\n",
       "Name: bodyId_post, dtype: int64"
      ]
     },
     "execution_count": 8,
     "metadata": {},
     "output_type": "execute_result"
    }
   ],
   "source": [
    "import strongest_targets\n",
    "\n",
    "sLNv_targs = strongest_targets.get_strong_shared_targs(MIds, 4)\n",
    "sLNv_targs\n",
    "\n",
    "candidate_IDs = sLNv_targs['bodyId_post']\n",
    "candidate_IDs"
   ]
  },
  {
   "cell_type": "markdown",
   "id": "3525c9b9",
   "metadata": {},
   "source": [
    "Retrieve connectivity for clock and candidates"
   ]
  },
  {
   "cell_type": "code",
   "execution_count": 12,
   "id": "fc961893",
   "metadata": {},
   "outputs": [],
   "source": [
    "import connection_utils\n",
    "import pandas as pd\n",
    "\n",
    "clock_targets = connection_utils.clock_neuron_connections(clock_df, 'out', min_weight=3)\n",
    "candidate_targets = strongest_targets.get_input_output_conns(candidate_IDs, 3, 'out')"
   ]
  },
  {
   "cell_type": "code",
   "execution_count": 14,
   "id": "c73480c4",
   "metadata": {},
   "outputs": [
    {
     "data": {
      "text/html": [
       "<div>\n",
       "<style scoped>\n",
       "    .dataframe tbody tr th:only-of-type {\n",
       "        vertical-align: middle;\n",
       "    }\n",
       "\n",
       "    .dataframe tbody tr th {\n",
       "        vertical-align: top;\n",
       "    }\n",
       "\n",
       "    .dataframe thead th {\n",
       "        text-align: right;\n",
       "    }\n",
       "</style>\n",
       "<table border=\"1\" class=\"dataframe\">\n",
       "  <thead>\n",
       "    <tr style=\"text-align: right;\">\n",
       "      <th></th>\n",
       "      <th>bodyId_pre</th>\n",
       "      <th>bodyId_post</th>\n",
       "      <th>weight</th>\n",
       "      <th>instance_pre</th>\n",
       "      <th>instance_post</th>\n",
       "    </tr>\n",
       "  </thead>\n",
       "  <tbody>\n",
       "    <tr>\n",
       "      <th>0</th>\n",
       "      <td>264083994</td>\n",
       "      <td>299272434</td>\n",
       "      <td>4</td>\n",
       "      <td>NaN</td>\n",
       "      <td>NaN</td>\n",
       "    </tr>\n",
       "    <tr>\n",
       "      <th>1</th>\n",
       "      <td>264083994</td>\n",
       "      <td>325814461</td>\n",
       "      <td>10</td>\n",
       "      <td>NaN</td>\n",
       "      <td>NaN</td>\n",
       "    </tr>\n",
       "    <tr>\n",
       "      <th>2</th>\n",
       "      <td>264083994</td>\n",
       "      <td>326119769</td>\n",
       "      <td>4</td>\n",
       "      <td>NaN</td>\n",
       "      <td>NaN</td>\n",
       "    </tr>\n",
       "    <tr>\n",
       "      <th>3</th>\n",
       "      <td>264083994</td>\n",
       "      <td>356472645</td>\n",
       "      <td>3</td>\n",
       "      <td>NaN</td>\n",
       "      <td>NaN</td>\n",
       "    </tr>\n",
       "    <tr>\n",
       "      <th>4</th>\n",
       "      <td>264083994</td>\n",
       "      <td>356503889</td>\n",
       "      <td>7</td>\n",
       "      <td>NaN</td>\n",
       "      <td>NaN</td>\n",
       "    </tr>\n",
       "    <tr>\n",
       "      <th>...</th>\n",
       "      <td>...</td>\n",
       "      <td>...</td>\n",
       "      <td>...</td>\n",
       "      <td>...</td>\n",
       "      <td>...</td>\n",
       "    </tr>\n",
       "    <tr>\n",
       "      <th>215</th>\n",
       "      <td>325122525</td>\n",
       "      <td>5813046962</td>\n",
       "      <td>3</td>\n",
       "      <td>SLP316_R</td>\n",
       "      <td>SLP296_R</td>\n",
       "    </tr>\n",
       "    <tr>\n",
       "      <th>216</th>\n",
       "      <td>325122525</td>\n",
       "      <td>5813057148</td>\n",
       "      <td>3</td>\n",
       "      <td>SLP316_R</td>\n",
       "      <td>SLP387_R</td>\n",
       "    </tr>\n",
       "    <tr>\n",
       "      <th>113</th>\n",
       "      <td>294783216</td>\n",
       "      <td>387166379</td>\n",
       "      <td>6</td>\n",
       "      <td>SLP403_R</td>\n",
       "      <td>DN1pA_R</td>\n",
       "    </tr>\n",
       "    <tr>\n",
       "      <th>191</th>\n",
       "      <td>294783216</td>\n",
       "      <td>324846570</td>\n",
       "      <td>3</td>\n",
       "      <td>SLP403_R</td>\n",
       "      <td>DN1pA_R</td>\n",
       "    </tr>\n",
       "    <tr>\n",
       "      <th>192</th>\n",
       "      <td>294783216</td>\n",
       "      <td>325529237</td>\n",
       "      <td>3</td>\n",
       "      <td>SLP403_R</td>\n",
       "      <td>DN1pA_R</td>\n",
       "    </tr>\n",
       "  </tbody>\n",
       "</table>\n",
       "<p>2622 rows × 5 columns</p>\n",
       "</div>"
      ],
      "text/plain": [
       "     bodyId_pre  bodyId_post  weight instance_pre instance_post\n",
       "0     264083994    299272434       4          NaN           NaN\n",
       "1     264083994    325814461      10          NaN           NaN\n",
       "2     264083994    326119769       4          NaN           NaN\n",
       "3     264083994    356472645       3          NaN           NaN\n",
       "4     264083994    356503889       7          NaN           NaN\n",
       "..          ...          ...     ...          ...           ...\n",
       "215   325122525   5813046962       3     SLP316_R      SLP296_R\n",
       "216   325122525   5813057148       3     SLP316_R      SLP387_R\n",
       "113   294783216    387166379       6     SLP403_R       DN1pA_R\n",
       "191   294783216    324846570       3     SLP403_R       DN1pA_R\n",
       "192   294783216    325529237       3     SLP403_R       DN1pA_R\n",
       "\n",
       "[2622 rows x 5 columns]"
      ]
     },
     "execution_count": 14,
     "metadata": {},
     "output_type": "execute_result"
    }
   ],
   "source": [
    "pd.concat([clock_targets, candidate_targets])"
   ]
  },
  {
   "cell_type": "markdown",
   "id": "22f44fa3-8ff6-4b68-ba04-6ef09713a8a8",
   "metadata": {},
   "source": [
    "To determine whether these 6 neurons had similar patterns of connectivity to any of the other identified clock neurons, jaccard indices were computed between the 6 candidates and the identified clock neurons."
   ]
  },
  {
   "cell_type": "code",
   "execution_count": null,
   "id": "cb56957d-7f8d-4d83-99c3-5e7e4eda18e0",
   "metadata": {},
   "outputs": [],
   "source": [
    "import visualization_utils\n",
    "\n",
    "visualization_utils.jaccard_vis()"
   ]
  },
  {
   "cell_type": "markdown",
   "id": "c5e3ea27-af07-443b-94ca-287b2f8a62fc",
   "metadata": {
    "tags": []
   },
   "source": [
    "# Strongest shared E cells targets"
   ]
  },
  {
   "cell_type": "markdown",
   "id": "ab82fa81-e81f-41d6-9059-946088bc046f",
   "metadata": {
    "tags": []
   },
   "source": [
    "(this is a mess and I have to see if Maria has updated this part of the paper)\n",
    "Strong inputs/outputs that are shared by any 2 E cells were retrieved. "
   ]
  },
  {
   "cell_type": "markdown",
   "id": "46650d07-fe10-4146-9a69-5ed5571c7445",
   "metadata": {},
   "source": []
  },
  {
   "cell_type": "code",
   "execution_count": 4,
   "id": "51d4799d-3573-4843-b261-5ad4f6eaef29",
   "metadata": {},
   "outputs": [],
   "source": [
    "EIds = clock_df[clock_df['phase']=='evening']['bodyId']"
   ]
  },
  {
   "cell_type": "markdown",
   "id": "88e0520e-7bca-4118-85c0-3c9e4d155605",
   "metadata": {},
   "source": []
  },
  {
   "cell_type": "code",
   "execution_count": 5,
   "id": "16c11f0b-8c40-4991-8e92-f476ba4bd2f0",
   "metadata": {},
   "outputs": [
    {
     "name": "stderr",
     "output_type": "stream",
     "text": [
      "C:\\Users\\dbing\\Documents\\Research\\Code\\clock-connectome\\strongest_targets.py:13: FutureWarning: Indexing with multiple keys (implicitly converted to a tuple of keys) will be deprecated, use a list instead.\n",
      "  test = test.groupby(['bodyId_post'], as_index=False)['weight','shared'].sum()\n"
     ]
    },
    {
     "data": {
      "text/plain": [
       "56      390331583\n",
       "37      329732855\n",
       "169    5813021666\n",
       "25      327588446\n",
       "7       297243542\n",
       "          ...    \n",
       "166    5813020696\n",
       "50      360677632\n",
       "6       297230760\n",
       "157    5812981517\n",
       "90      512787296\n",
       "Name: bodyId_post, Length: 80, dtype: int64"
      ]
     },
     "execution_count": 5,
     "metadata": {},
     "output_type": "execute_result"
    }
   ],
   "source": [
    "Evening_targs = strongest_targets.get_strong_shared_targs(EIds, 2)\n",
    "Evening_targs\n",
    "\n",
    "candidate_IDs = Evening_targs['bodyId_post']\n",
    "candidate_IDs"
   ]
  },
  {
   "cell_type": "markdown",
   "id": "34a708ee-18a7-4d44-b14b-9f07a101eb92",
   "metadata": {},
   "source": []
  },
  {
   "cell_type": "code",
   "execution_count": 23,
   "id": "07076ec2-7ea2-4000-8cd7-cd21d941b7ba",
   "metadata": {},
   "outputs": [],
   "source": []
  }
 ],
 "metadata": {
  "kernelspec": {
   "display_name": "Python 3",
   "language": "python",
   "name": "python3"
  },
  "language_info": {
   "codemirror_mode": {
    "name": "ipython",
    "version": 3
   },
   "file_extension": ".py",
   "mimetype": "text/x-python",
   "name": "python",
   "nbconvert_exporter": "python",
   "pygments_lexer": "ipython3",
   "version": "3.8.8"
  }
 },
 "nbformat": 4,
 "nbformat_minor": 5
}

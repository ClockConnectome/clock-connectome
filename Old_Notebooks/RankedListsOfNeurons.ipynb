{
 "cells": [
  {
   "cell_type": "markdown",
   "metadata": {},
   "source": [
    "# Setup: Initialize neuprint client"
   ]
  },
  {
   "cell_type": "markdown",
   "metadata": {},
   "source": [
    "User must input own neuprint token"
   ]
  },
  {
   "cell_type": "code",
   "execution_count": null,
   "metadata": {
    "colab": {
     "base_uri": "https://localhost:8080/",
     "height": 513
    },
    "id": "N82wuk1WlU7Y",
    "outputId": "3d22cf39-3590-4fbd-aefc-bc847d243e26",
    "scrolled": true
   },
   "outputs": [],
   "source": [
    "# Importing and calling neuprint api\n",
    "from neuprint import Client\n",
    "c = Client('neuprint.janelia.org', dataset='hemibrain:v1.2.1', token='[insert token here]') \n",
    "c.fetch_version()"
   ]
  },
  {
   "cell_type": "markdown",
   "metadata": {},
   "source": [
    "# Get neuron criteria"
   ]
  },
  {
   "cell_type": "code",
   "execution_count": 15,
   "metadata": {
    "id": "YbVwDzjoMkdb"
   },
   "outputs": [],
   "source": [
    "from neuprint import NeuronCriteria as NC\n",
    "from neuron_criteria import getClock"
   ]
  },
  {
   "cell_type": "code",
   "execution_count": 16,
   "metadata": {},
   "outputs": [],
   "source": [
    "clock_df = getClock()"
   ]
  },
  {
   "cell_type": "code",
   "execution_count": null,
   "metadata": {
    "id": "gMVUAwGjo1ad",
    "scrolled": true
   },
   "outputs": [],
   "source": [
    "from neuprint import fetch_neurons, NeuronCriteria as NC\n",
    "criteria = NC(bodyId=tuple(clock_df['bodyId']))\n",
    "LNdcriteria = NC(type='LNd.*', regex=True)\n",
    "LNd_neurons = fetch_neurons(LNdcriteria)"
   ]
  },
  {
   "cell_type": "markdown",
   "metadata": {},
   "source": [
    "# Fetch synapse information for LNd neurons and all pre and post connections"
   ]
  },
  {
   "cell_type": "code",
   "execution_count": 19,
   "metadata": {
    "id": "dfg6tNkwruKq"
   },
   "outputs": [],
   "source": [
    "from neuprint import fetch_simple_connections\n",
    "\n",
    "pre_conns = fetch_simple_connections(None,criteria)\n",
    "post_conns = fetch_simple_connections(criteria)"
   ]
  },
  {
   "cell_type": "code",
   "execution_count": 21,
   "metadata": {
    "colab": {
     "base_uri": "https://localhost:8080/",
     "height": 423
    },
    "id": "WDJIbZzFNODY",
    "outputId": "6868d085-a229-4b4d-8b0c-203e765da989"
   },
   "outputs": [
    {
     "data": {
      "text/html": [
       "<div>\n",
       "<style scoped>\n",
       "    .dataframe tbody tr th:only-of-type {\n",
       "        vertical-align: middle;\n",
       "    }\n",
       "\n",
       "    .dataframe tbody tr th {\n",
       "        vertical-align: top;\n",
       "    }\n",
       "\n",
       "    .dataframe thead th {\n",
       "        text-align: right;\n",
       "    }\n",
       "</style>\n",
       "<table border=\"1\" class=\"dataframe\">\n",
       "  <thead>\n",
       "    <tr style=\"text-align: right;\">\n",
       "      <th></th>\n",
       "      <th>bodyId</th>\n",
       "      <th>type</th>\n",
       "      <th>roi</th>\n",
       "      <th>x</th>\n",
       "      <th>y</th>\n",
       "      <th>z</th>\n",
       "      <th>confidence</th>\n",
       "    </tr>\n",
       "  </thead>\n",
       "  <tbody>\n",
       "    <tr>\n",
       "      <th>0</th>\n",
       "      <td>5813064789</td>\n",
       "      <td>pre</td>\n",
       "      <td>SMP(R)</td>\n",
       "      <td>20138</td>\n",
       "      <td>21479</td>\n",
       "      <td>7759</td>\n",
       "      <td>0.974000</td>\n",
       "    </tr>\n",
       "    <tr>\n",
       "      <th>1</th>\n",
       "      <td>5813064789</td>\n",
       "      <td>pre</td>\n",
       "      <td>SMP(R)</td>\n",
       "      <td>20278</td>\n",
       "      <td>21266</td>\n",
       "      <td>7870</td>\n",
       "      <td>0.976000</td>\n",
       "    </tr>\n",
       "    <tr>\n",
       "      <th>2</th>\n",
       "      <td>5813064789</td>\n",
       "      <td>pre</td>\n",
       "      <td>SMP(R)</td>\n",
       "      <td>20230</td>\n",
       "      <td>21276</td>\n",
       "      <td>7934</td>\n",
       "      <td>0.694000</td>\n",
       "    </tr>\n",
       "    <tr>\n",
       "      <th>3</th>\n",
       "      <td>5813064789</td>\n",
       "      <td>pre</td>\n",
       "      <td>SMP(R)</td>\n",
       "      <td>20254</td>\n",
       "      <td>21310</td>\n",
       "      <td>7902</td>\n",
       "      <td>0.986000</td>\n",
       "    </tr>\n",
       "    <tr>\n",
       "      <th>4</th>\n",
       "      <td>5813064789</td>\n",
       "      <td>pre</td>\n",
       "      <td>SMP(R)</td>\n",
       "      <td>20222</td>\n",
       "      <td>21247</td>\n",
       "      <td>7938</td>\n",
       "      <td>0.935000</td>\n",
       "    </tr>\n",
       "    <tr>\n",
       "      <th>...</th>\n",
       "      <td>...</td>\n",
       "      <td>...</td>\n",
       "      <td>...</td>\n",
       "      <td>...</td>\n",
       "      <td>...</td>\n",
       "      <td>...</td>\n",
       "      <td>...</td>\n",
       "    </tr>\n",
       "    <tr>\n",
       "      <th>9326</th>\n",
       "      <td>448260940</td>\n",
       "      <td>post</td>\n",
       "      <td>SMP(R)</td>\n",
       "      <td>16605</td>\n",
       "      <td>21609</td>\n",
       "      <td>4816</td>\n",
       "      <td>0.730888</td>\n",
       "    </tr>\n",
       "    <tr>\n",
       "      <th>9327</th>\n",
       "      <td>448260940</td>\n",
       "      <td>post</td>\n",
       "      <td>SMP(R)</td>\n",
       "      <td>16730</td>\n",
       "      <td>17825</td>\n",
       "      <td>8542</td>\n",
       "      <td>0.988277</td>\n",
       "    </tr>\n",
       "    <tr>\n",
       "      <th>9328</th>\n",
       "      <td>448260940</td>\n",
       "      <td>post</td>\n",
       "      <td>SLP(R)</td>\n",
       "      <td>13860</td>\n",
       "      <td>21757</td>\n",
       "      <td>6023</td>\n",
       "      <td>0.827187</td>\n",
       "    </tr>\n",
       "    <tr>\n",
       "      <th>9329</th>\n",
       "      <td>448260940</td>\n",
       "      <td>post</td>\n",
       "      <td>SLP(R)</td>\n",
       "      <td>13823</td>\n",
       "      <td>21795</td>\n",
       "      <td>5996</td>\n",
       "      <td>0.968956</td>\n",
       "    </tr>\n",
       "    <tr>\n",
       "      <th>9330</th>\n",
       "      <td>448260940</td>\n",
       "      <td>post</td>\n",
       "      <td>SLP(R)</td>\n",
       "      <td>15359</td>\n",
       "      <td>22365</td>\n",
       "      <td>6360</td>\n",
       "      <td>0.717825</td>\n",
       "    </tr>\n",
       "  </tbody>\n",
       "</table>\n",
       "<p>9331 rows × 7 columns</p>\n",
       "</div>"
      ],
      "text/plain": [
       "          bodyId  type     roi      x      y     z  confidence\n",
       "0     5813064789   pre  SMP(R)  20138  21479  7759    0.974000\n",
       "1     5813064789   pre  SMP(R)  20278  21266  7870    0.976000\n",
       "2     5813064789   pre  SMP(R)  20230  21276  7934    0.694000\n",
       "3     5813064789   pre  SMP(R)  20254  21310  7902    0.986000\n",
       "4     5813064789   pre  SMP(R)  20222  21247  7938    0.935000\n",
       "...          ...   ...     ...    ...    ...   ...         ...\n",
       "9326   448260940  post  SMP(R)  16605  21609  4816    0.730888\n",
       "9327   448260940  post  SMP(R)  16730  17825  8542    0.988277\n",
       "9328   448260940  post  SLP(R)  13860  21757  6023    0.827187\n",
       "9329   448260940  post  SLP(R)  13823  21795  5996    0.968956\n",
       "9330   448260940  post  SLP(R)  15359  22365  6360    0.717825\n",
       "\n",
       "[9331 rows x 7 columns]"
      ]
     },
     "execution_count": 21,
     "metadata": {},
     "output_type": "execute_result"
    }
   ],
   "source": [
    "from neuprint import fetch_synapses\n",
    "\n",
    "LNd_synapses = fetch_synapses(LNdcriteria)\n",
    "LNd_synapses"
   ]
  },
  {
   "cell_type": "markdown",
   "metadata": {},
   "source": [
    "# Sort information from highest to lowest number of synaptic connections per neuron"
   ]
  },
  {
   "cell_type": "code",
   "execution_count": 22,
   "metadata": {
    "id": "w-2vH-EnsBf8"
   },
   "outputs": [],
   "source": [
    "# The main thing here is to sort this information from highest to lowest number of synaptic connections for each neuron\n",
    "\n",
    "post_conns_small = post_conns[['bodyId_pre','bodyId_post','instance_pre','instance_post','weight']]\n",
    "\n",
    "post_conns_sort = post_conns_small.sort_values('weight', ascending = False)\n",
    "\n",
    "pre_conns_small = pre_conns[['bodyId_pre','bodyId_post','instance_pre','instance_post','weight']]\n",
    "\n",
    "pre_conns_sort = pre_conns_small.sort_values('weight', ascending = False)"
   ]
  },
  {
   "cell_type": "code",
   "execution_count": 21,
   "metadata": {
    "id": "ytSf1YReX-X5"
   },
   "outputs": [],
   "source": [
    "import pandas as pd\n",
    "\n",
    "def ranked_lists(clock_df, conns_sort, pre_or_post):\n",
    "    \"\"\"\n",
    "    Generates a dataframe with each 'type' of pre or postsynaptic neurons ranked by weight\n",
    "    \n",
    "    :param clock_df: clock dataframe\n",
    "    :param conns_sort: dataframe of connection information sorted from highest to lowest number of synaptic connections for each neuron\n",
    "    :param pre_or_post: string determining if it's looking at synaptic inputs (presynaptic) or targets (postsynaptic)\n",
    "    :return:\n",
    "    \"\"\"\n",
    "    tables = []\n",
    "    #looking at one particular type at a time\n",
    "    types = clock_df['type'].unique()\n",
    "    for group in types:\n",
    "        #these are all the body Ids of that type\n",
    "        IDs = clock_df[clock_df['type']==group]['bodyId']\n",
    "        count = 1\n",
    "        #looking at one neuron at a time\n",
    "        for ID in IDs:\n",
    "            #takes only the rows where the presynaptic neuron is that neuron\n",
    "            if pre_or_post == 'post':\n",
    "                sub_conns = conns_sort[conns_sort[\"bodyId_pre\"] == ID]\n",
    "            if pre_or_post == 'pre':\n",
    "                sub_conns = conns_sort[conns_sort[\"bodyId_post\"] == ID]\n",
    "                sub_conns = sub_conns[['bodyId_pre', 'instance_pre', 'weight']]\n",
    "            sub_conns.reset_index(drop=True, inplace=True)\n",
    "            #adds on that information onto post_tables\n",
    "            tables.append(sub_conns)\n",
    "            count = count + 1\n",
    "\n",
    "    all_grouped = pd.concat(tables, axis = 1)\n",
    "    return all_grouped"
   ]
  },
  {
   "cell_type": "code",
   "execution_count": 22,
   "metadata": {},
   "outputs": [],
   "source": [
    "all_post = ranked_lists(clock_df, post_conns_sort, 'post')\n",
    "all_pre = ranked_lists(clock_df, pre_conns_sort, 'pre')\n",
    "\n",
    "#saves the tables as csvs\n",
    "all_post.to_csv('ranked_post_temp.csv')\n",
    "all_pre.to_csv('ranked_pre_temp.csv')"
   ]
  },
  {
   "cell_type": "code",
   "execution_count": null,
   "metadata": {
    "id": "wtsn97iTr1DZ"
   },
   "outputs": [],
   "source": [
    "# Use merge_neuron_properties and connection_table_to_matrix to organize the data "
   ]
  }
 ],
 "metadata": {
  "colab": {
   "collapsed_sections": [],
   "name": "RankedListsOfNeurons.ipynb",
   "provenance": []
  },
  "kernelspec": {
   "display_name": "Python 3 (ipykernel)",
   "language": "python",
   "name": "python3"
  },
  "language_info": {
   "codemirror_mode": {
    "name": "ipython",
    "version": 3
   },
   "file_extension": ".py",
   "mimetype": "text/x-python",
   "name": "python",
   "nbconvert_exporter": "python",
   "pygments_lexer": "ipython3",
   "version": "3.8.8"
  }
 },
 "nbformat": 4,
 "nbformat_minor": 1
}
